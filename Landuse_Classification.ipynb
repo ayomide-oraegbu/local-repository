{
 "cells": [
  {
   "cell_type": "code",
   "execution_count": 18,
   "metadata": {},
   "outputs": [],
   "source": [
    "# import libraries\n",
    "import os\n",
    "import shutil\n",
    "import random\n",
    "from osgeo import gdal"
   ]
  },
  {
   "cell_type": "code",
   "execution_count": 19,
   "metadata": {},
   "outputs": [],
   "source": [
    "# define path to dataset\n",
    "path = \"C:/Current_Work/EuroSATallBands/ds/images/remote_sensing/otherDatasets/sentinel_2/\"\n",
    "seed = random.seed(1234)\n"
   ]
  },
  {
   "cell_type": "code",
   "execution_count": 20,
   "metadata": {},
   "outputs": [],
   "source": [
    "# create folders\n",
    "# get names of categories\n",
    "categories = []\n",
    "tif_files = []\n",
    "for (dirpath, dirnames, filenames) in os.walk(path + 'tif/'):\n",
    "    categories.extend(dirnames)\n",
    "    tif_files += filenames\n",
    "#tif_files.remove('.DS_Store')\n"
   ]
  },
  {
   "cell_type": "code",
   "execution_count": 21,
   "metadata": {},
   "outputs": [],
   "source": [
    "# create new folder with test train and valid sets with folders of all categories\n",
    "\n",
    "# make train, test, valid folders\n",
    "split_names = ['train', 'test', 'valid']\n",
    "for sp_name in split_names:\n",
    "    directory = path + 'land-use-jpeg/' + sp_name + '/'\n",
    "    if not os.path.exists(directory):\n",
    "        os.makedirs(directory)\n",
    "    # make category folders\n",
    "    for category in categories:\n",
    "        dir_cat = directory + category + '/'\n",
    "        if not os.path.exists(dir_cat):\n",
    "            os.makedirs(dir_cat)\n"
   ]
  },
  {
   "cell_type": "code",
   "execution_count": 22,
   "metadata": {},
   "outputs": [],
   "source": [
    "%%capture\n",
    "for category in categories:\n",
    "    directory = path + 'tif/' + category + '/'\n",
    "    directory_train = path + 'land-use-jpeg/train/' + category + '/'\n",
    "    directory_valid = path + 'land-use-jpeg/test/' + category + '/'\n",
    "    directory_test = path + 'land-use-jpeg/valid/' + category + '/'\n",
    "\n",
    "    cat_files = os.listdir(directory)\n",
    "\n",
    "    if '.DS_Store' in cat_files:\n",
    "        cat_files.remove('.DS_Store')\n",
    "\n",
    "    # translate files from .tif to .jpeg\n",
    "    for file in cat_files:\n",
    "        file_no_ext = file.split('.')[0]  # separate file name from extension\n",
    "        img_in = directory + file\n",
    "        img_out = directory + file_no_ext + '.jpeg'\n",
    "\n",
    "        if not os.path.exists(directory_train + file_no_ext + '.jpeg'):\n",
    "            !gdal_translate - of JPEG $img_in $img_out - b 2 - b 3 - b 4 - scale  # RGB bands\n",
    "            if os.path.exists(img_out):\n",
    "                shutil.move(img_out, directory_train + file_no_ext + '.jpeg')\n",
    "\n",
    "    # remove .xml files that come from translation\n",
    "    for item in cat_files:\n",
    "        if item.endswith(\".xml\"):\n",
    "            os.remove(os.path.join(directory, item))\n",
    "\n",
    "    # sort files into test and valid folders\n",
    "    filenames = os.listdir(directory_train)\n",
    "    filenames.sort()\n",
    "    if '.DS_Store' in filenames:\n",
    "        filenames.remove('.DS_Store')\n",
    "    random.shuffle(filenames)\n",
    "    split_1 = int(0.8 * len(filenames))\n",
    "    split_2 = int(0.9 * len(filenames))\n",
    "    train_filenames = filenames[:split_1]\n",
    "    valid_filenames = filenames[split_1:split_2]\n",
    "    test_filenames = filenames[split_2:]\n",
    "\n",
    "    for file in filenames:\n",
    "        if file in valid_filenames:\n",
    "            shutil.move(directory_train + file, directory_valid + file)\n",
    "        elif file in test_filenames:\n",
    "            shutil.move(directory_train + file, directory_test + file)\n"
   ]
  },
  {
   "cell_type": "code",
   "execution_count": null,
   "metadata": {},
   "outputs": [],
   "source": []
  }
 ],
 "metadata": {
  "colab": {
   "name": "1a. Data Visualization.ipynb",
   "provenance": []
  },
  "interpreter": {
   "hash": "01e7be8b0026bafd93b41fb415e9db8b0da6a3f8cb0b48eca390d7b6a0c27d60"
  },
  "kernelspec": {
   "display_name": "Python 3.8.1 64-bit (system)",
   "language": "python",
   "name": "python3"
  },
  "language_info": {
   "codemirror_mode": {
    "name": "ipython",
    "version": 3
   },
   "file_extension": ".py",
   "mimetype": "text/x-python",
   "name": "python",
   "nbconvert_exporter": "python",
   "pygments_lexer": "ipython3",
   "version": "3.8.1"
  }
 },
 "nbformat": 4,
 "nbformat_minor": 1
}
